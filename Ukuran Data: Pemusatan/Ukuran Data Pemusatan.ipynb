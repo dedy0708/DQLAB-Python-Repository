{
 "cells": [
  {
   "cell_type": "markdown",
   "metadata": {},
   "source": [
    "#### Source Course    : **DQLAB ACADEMY**\n",
    "#### Website                 : https://academy.dqlab.id/\n",
    "#### Course Name       : Ukuran Data: Pemusatan\n",
    "#### Name              : Dedy Kurnianto"
   ]
  },
  {
   "cell_type": "markdown",
   "metadata": {},
   "source": [
    "## Pendahuluan"
   ]
  },
  {
   "cell_type": "markdown",
   "metadata": {},
   "source": [
    "Ukuran pemusatan data *(measures of central tendency)* adalah nilai yang digunakan untuk menggambarkan sekumpulan data dengan mengidentifikasikan pusat dari kumpulan data tersebut. Ukuran pemusatan data yang paling sering digunakan adalah rata-rata (mean), median, dan modus (mode)"
   ]
  },
  {
   "cell_type": "markdown",
   "metadata": {},
   "source": [
    "### A. Rata-Rata (Mean)\n",
    "Rata-rata (mean) adalah jumlah dari seluruh nilai pada suatu set data yang dibagi dengan banyaknya data    \n",
    "\n",
    "Rata-rata juga merupakan pengukuran pemusatan data yang paling terkenal. Apabila kita memiliki data sejumlah  dan data tersebut memiliki nilai x1, x2, x3,..... xn maka rata-rata dari data tersebut dapat dihitung dengan rumus berikut"
   ]
  },
  {
   "cell_type": "code",
   "execution_count": 3,
   "metadata": {},
   "outputs": [
    {
     "name": "stdout",
     "output_type": "stream",
     "text": [
      "Populating the interactive namespace from numpy and matplotlib\n"
     ]
    },
    {
     "data": {
      "image/png": "[encoded data removed]",
      "text/plain": [
       "<Figure size 864x504 with 1 Axes>"
      ]
     },
     "metadata": {
      "needs_background": "light"
     },
     "output_type": "display_data"
    }
   ],
   "source": [
    "#rumus mean\n",
    "%pylab inline\n",
    "import matplotlib.pyplot as plt\n",
    "import matplotlib.image as mpimg\n",
    "plt.figure(figsize=(12, 7))\n",
    "img = mpimg.imread('mean.png')\n",
    "imgplot = plt.imshow(img)\n",
    "plt.show()"
   ]
  },
  {
   "cell_type": "markdown",
   "metadata": {},
   "source": [
    "### B. Median (Nilai Tengah)\n",
    "Median atau nilai tengah dari kumpulan data yang telah diurutkan dari nilai terkecil sampai terbesar atau sebaliknya,"
   ]
  },
  {
   "cell_type": "markdown",
   "metadata": {},
   "source": [
    "### C. Modus (Mode)\n",
    "Modus (mode) yang merupakan ukuran pemusatan dengan menggunakan data yang paling sering muncul pada kumpulan data"
   ]
  },
  {
   "cell_type": "markdown",
   "metadata": {},
   "source": [
    "### D. Membaca Data Survei\n",
    "Pada tahap ini, aku akan mencoba menggunakan dataset tinggi badan yang telah tersedia melalui url: https://storage.googleapis.com/dqlab-dataset/survei_tinggi_badan.txt untuk mempelajari mean, median, dan modus."
   ]
  },
  {
   "cell_type": "code",
   "execution_count": 4,
   "metadata": {},
   "outputs": [
    {
     "name": "stdout",
     "output_type": "stream",
     "text": [
      "   tinggi badan (cm)\n",
      "0                157\n",
      "1                163\n",
      "2                156\n",
      "3                166\n",
      "4                162\n"
     ]
    }
   ],
   "source": [
    "# Import library pandas sebagai aliasnya pd\n",
    "import pandas as pd\n",
    "\n",
    "# Membaca file survei_tinggi_badan.txt\n",
    "df = pd.read_csv(\"https://storage.googleapis.com/dqlab-dataset/survei_tinggi_badan.txt\")\n",
    "\n",
    "# Mencetak 5 data teratas\n",
    "print(df.head(5))"
   ]
  },
  {
   "cell_type": "markdown",
   "metadata": {},
   "source": [
    "### E. Mengubah Nama Kolom\n",
    "Aku dapat melihat dataset ini sangat sederhana karena hanya terdiri dari satu kolom, yaitu kolom tinggi badan dalam satuan cm.\n",
    "Kemudian untuk mempermudah penulisan nama kolom, aku mengubah kolom “tinggi badan (cm)” menjadi “tinggi”."
   ]
  },
  {
   "cell_type": "code",
   "execution_count": 5,
   "metadata": {
    "scrolled": true
   },
   "outputs": [
    {
     "name": "stdout",
     "output_type": "stream",
     "text": [
      "   tinggi\n",
      "0     157\n",
      "1     163\n",
      "2     156\n",
      "3     166\n",
      "4     162\n"
     ]
    }
   ],
   "source": [
    "# melakukan rename terhadap kolom \"tinggi badan (cm)\" menjadi \"tinggi\"\n",
    "df.rename({'tinggi badan (cm)' : 'tinggi'}, axis=1, inplace=True)\n",
    "print(df.head(5))"
   ]
  },
  {
   "cell_type": "markdown",
   "metadata": {},
   "source": [
    "### F. Nilai Mean\n",
    "Kemudian, aku memeriksa apakah ada data yang bernilai null. Hal ini penting karena data kosong dapat mempengaruhi perhitungan pemusatan data."
   ]
  },
  {
   "cell_type": "code",
   "execution_count": 6,
   "metadata": {},
   "outputs": [
    {
     "name": "stdout",
     "output_type": "stream",
     "text": [
      "Mengecek apakah ada data yang bernilai null\n",
      "False\n",
      "\n",
      "Mengecek jumlah data\n",
      "(250, 1)\n",
      "\n",
      "Mean: 161.352\n"
     ]
    }
   ],
   "source": [
    "# Mengecek apakah ada data yang bernilai null\n",
    "print(\"Mengecek apakah ada data yang bernilai null\")\n",
    "print(df.isnull().any().any())\n",
    "\n",
    "# Mengecek jumlah data\n",
    "print(\"\\nMengecek jumlah data\")\n",
    "print(df.shape)\n",
    "\n",
    "# Mendapatkan nilai mean menggunakan fungsi mean yang disediakan pandas\n",
    "print(\"\\nMean:\", df[\"tinggi\"].mean())"
   ]
  },
  {
   "cell_type": "markdown",
   "metadata": {},
   "source": [
    "### G. Nilai Median dan Modus\n",
    "Dari proses sebelumnya, aku mendapatkan nilai mean 161.352 yang berarti merupakan rata-rata tertinggi dari dataset ini. Kemudian aku mencari nilai median (nilai tengah) dari data. Untungnya, pandas juga sudah menyediakan fungsi median():"
   ]
  },
  {
   "cell_type": "code",
   "execution_count": 7,
   "metadata": {
    "scrolled": true
   },
   "outputs": [
    {
     "name": "stdout",
     "output_type": "stream",
     "text": [
      "Median data\n",
      ">> Median:  161.0\n",
      "\n",
      "Modus data\n",
      ">> Modus:  0    162\n",
      "dtype: int64\n"
     ]
    }
   ],
   "source": [
    "# Mendapatkan nilai median menggunakan fungsi median yang disediakan pandas\n",
    "print(\"Median data\")\n",
    "print(\">> Median: \", df[\"tinggi\"].median())\n",
    "\n",
    "# Mendapatkan nilai modus menggunakan fungsi mode yang disediakan pandas\n",
    "print(\"\\nModus data\")\n",
    "print(\">> Modus: \", df[\"tinggi\"].mode())\n"
   ]
  },
  {
   "cell_type": "markdown",
   "metadata": {},
   "source": [
    "## 2. Anscombe’s Quartet"
   ]
  },
  {
   "cell_type": "markdown",
   "metadata": {},
   "source": [
    "## A. Membaca Dataset\n",
    "Kali ini, aku tidak meminta bantuan Antara karena aku dapat mencari informasi melalui DQLab. Berdasarkan sumber yang kudapatkan, aku merangkum catatan mengenai Anscombe’s Quartet berikut ini:    \n",
    "\n",
    "*Anscombe’s Quartet pertama kali diperkenalkan oleh Francis John “Frank” Anscombe pada tahun 1973. Anscombe’s Quartet berisi 4 dataset yang memiliki nilai statistik yang hampir sama, tetapi sangat berbeda ketika digambarkan dalam bentuk grafik. Setiap dataset memiliki 11 data poin yang merepresentasikan nilai x dan y.&"
   ]
  },
  {
   "cell_type": "code",
   "execution_count": 2,
   "metadata": {
    "scrolled": false
   },
   "outputs": [
    {
     "name": "stdout",
     "output_type": "stream",
     "text": [
      "Anscombe's Quartet\n",
      "    x1  x2  x3  x4     y1    y2     y3     y4\n",
      "0   10  10  10   8   8.04  9.14   7.46   6.58\n",
      "1    8   8   8   8   6.95  8.14   6.77   5.76\n",
      "2   13  13  13   8   7.58  8.74  12.74   7.71\n",
      "3    9   9   9   8   8.81  8.77   7.11   8.84\n",
      "4   11  11  11   8   8.33  9.26   7.81   8.47\n",
      "5   14  14  14   8   9.96  8.10   8.84   7.04\n",
      "6    6   6   6   8   7.24  6.13   6.08   5.25\n",
      "7    4   4   4  19   4.26  3.10   5.39  12.50\n",
      "8   12  12  12   8  10.84  9.13   8.15   5.56\n",
      "9    7   7   7   8   4.82  7.26   6.42   7.91\n",
      "10   5   5   5   8   5.68  4.74   5.73   6.89\n",
      "\n",
      "Mean dari Anscombe's Quartet\n",
      "x1    9.000000\n",
      "x2    9.000000\n",
      "x3    9.000000\n",
      "x4    9.000000\n",
      "y1    7.500909\n",
      "y2    7.500909\n",
      "y3    7.500000\n",
      "y4    7.500909\n",
      "dtype: float64\n"
     ]
    }
   ],
   "source": [
    "# import library pandas\n",
    "import pandas as pd\n",
    "\n",
    "#load dataset ke dataframe anscombe\n",
    "anscombe = pd.read_csv(\"https://storage.googleapis.com/dqlab-dataset/anscombe.csv\")\n",
    "\n",
    "# menampilkan seluruh baris data yang ada\n",
    "print(\"Anscombe's Quartet\")\n",
    "print(anscombe)\n",
    "\n",
    "# menampilkan mean dataset anscombe\n",
    "print(\"\\nMean dari Anscombe's Quartet\")\n",
    "print(anscombe.mean())"
   ]
  },
  {
   "cell_type": "markdown",
   "metadata": {},
   "source": [
    "### B. Visualisasi Scatter\n",
    "Selanjutnya, memvisualisasikan setiap pasang (x1, y1), (x2, y2), (x3, y3), dan (x4, y4) menggunakan fungsi scatter(). "
   ]
  },
  {
   "cell_type": "code",
   "execution_count": 3,
   "metadata": {},
   "outputs": [
    {
     "data": {
      "image/png": "[encoded data removed]",
      "text/plain": [
       "<Figure size 576x576 with 4 Axes>"
      ]
     },
     "metadata": {
      "needs_background": "light"
     },
     "output_type": "display_data"
    }
   ],
   "source": [
    "# import matplotlib untuk plotting\n",
    "import matplotlib.pyplot as plt\n",
    "fig, ax = plt.subplots(nrows=2, ncols=2, figsize=(8,8))\n",
    "# scatter plot (x1, y1), (x2, y2), (x3, y3), dan (x4, y4)\n",
    "ax[0][0].scatter(anscombe.x1, anscombe.y1)\n",
    "ax[0][1].scatter(anscombe.x2, anscombe.y2)\n",
    "ax[1][0].scatter(anscombe.x3, anscombe.y3)\n",
    "ax[1][1].scatter(anscombe.x4, anscombe.y4)\n",
    "\n",
    "k = 1\n",
    "for i in range(2):\n",
    "    for j in range(2):\n",
    "        ax[i][j].set_xlabel(\"x\" + str(k), fontsize=12)\n",
    "        ax[i][j].set_ylabel(\"y\" + str(k), fontsize=12)\n",
    "        ax[i][j].grid()\n",
    "        k += 1\n",
    "\n",
    "plt.tight_layout()\n",
    "plt.show()"
   ]
  },
  {
   "cell_type": "code",
   "execution_count": 17,
   "metadata": {},
   "outputs": [
    {
     "name": "stdout",
     "output_type": "stream",
     "text": [
      "Nilai rata-ratanya adalah 161.352 \n",
      "Nilai mediannya adalah 161.0 \n",
      "Nilai modusnya adalah 0    162\n",
      "dtype: int64 \n"
     ]
    }
   ],
   "source": [
    "# mendapatkan nilai mean menggunakan fungsi mean yang disediakan pandas\n",
    "print(\"Nilai rata-ratanya adalah {} \".format(df[\"tinggi\"].mean()))\n",
    "\n",
    "# mendapatkan nilai median menggunakan fungsi median yang disediakan pandas\n",
    "print(\"Nilai mediannya adalah {} \".format(df[\"tinggi\"].median()))\n",
    "\n",
    "# mendapatkan nilai modus menggunakan fungsi mode yang disediakan pandas\n",
    "print(\"Nilai modusnya adalah {} \".format(df[\"tinggi\"].mode()))\n"
   ]
  }
 ],
 "metadata": {
  "kernelspec": {
   "display_name": "Python 3",
   "language": "python",
   "name": "python3"
  },
  "language_info": {
   "codemirror_mode": {
    "name": "ipython",
    "version": 3
   },
   "file_extension": ".py",
   "mimetype": "text/x-python",
   "name": "python",
   "nbconvert_exporter": "python",
   "pygments_lexer": "ipython3",
   "version": "3.8.5"
  }
 },
 "nbformat": 4,
 "nbformat_minor": 4
}
